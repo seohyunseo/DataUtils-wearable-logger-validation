{
 "cells": [
  {
   "cell_type": "code",
   "execution_count": 216,
   "metadata": {},
   "outputs": [],
   "source": [
    "import pandas as pd\n",
    "import os\n",
    "from glob import glob"
   ]
  },
  {
   "cell_type": "code",
   "execution_count": 217,
   "metadata": {},
   "outputs": [],
   "source": [
    "DATA_PATH = \"./Experiment/Raw/\"\n",
    "SUBJECT_PATH = \"P04/\"\n",
    "POLAR_PATH = \"PolarH10/\"\n",
    "E4_PATH = 'e4/'\n",
    "GALAXY_PATH = 'GalaxyWatch/'"
   ]
  },
  {
   "cell_type": "code",
   "execution_count": 218,
   "metadata": {},
   "outputs": [],
   "source": [
    "polarh10_sample_rate = 130\n",
    "e4_sample_rate = 64\n",
    "galaxy_sample_rate = 25"
   ]
  },
  {
   "cell_type": "code",
   "execution_count": 219,
   "metadata": {},
   "outputs": [],
   "source": [
    "sample_rate_list = [polarh10_sample_rate, e4_sample_rate, galaxy_sample_rate]\n",
    "sensor_list = ['Polar H10', 'E4', 'Galaxy Watch']\n",
    "sensor_path_list = [POLAR_PATH, E4_PATH, GALAXY_PATH]"
   ]
  },
  {
   "cell_type": "code",
   "execution_count": 220,
   "metadata": {},
   "outputs": [],
   "source": [
    "event_df = pd.read_csv(glob(os.path.join(DATA_PATH, SUBJECT_PATH, \"event.csv\"))[0])"
   ]
  },
  {
   "cell_type": "code",
   "execution_count": 221,
   "metadata": {},
   "outputs": [],
   "source": [
    "polarh10_df = pd.read_csv(glob(os.path.join(DATA_PATH, SUBJECT_PATH, POLAR_PATH, \"ECG.csv\"))[0])\n",
    "e4_df = pd.read_csv(glob(os.path.join(DATA_PATH, SUBJECT_PATH, E4_PATH, \"BVP.csv\"))[0])\n",
    "galaxy_df = pd.read_csv(glob(os.path.join(DATA_PATH, SUBJECT_PATH, GALAXY_PATH, \"PPG.csv\"))[0])"
   ]
  },
  {
   "cell_type": "code",
   "execution_count": 222,
   "metadata": {},
   "outputs": [],
   "source": [
    "polarh10_df[\"Timestamp\"] = pd.to_datetime(polarh10_df[\"phoneTimestamp\"]/1e3, unit='s')\n",
    "polarh10_df[\"Timestamp\"] = polarh10_df[\"Timestamp\"].dt.strftime(\"%Y-%m-%d %H:%M:%S\")\n",
    "e4_df[\"Timestamp\"] = pd.to_datetime(e4_df[\"timestamp\"]/1e6, unit='s') + pd.Timedelta(hours=9)\n",
    "e4_df[\"Timestamp\"] = e4_df[\"Timestamp\"].dt.strftime(\"%Y-%m-%d %H:%M:%S\")\n",
    "galaxy_df[\"Timestamp\"] = pd.to_datetime(galaxy_df[\"timestamp\"]/1e3, unit='s') + pd.Timedelta(hours=9)\n",
    "galaxy_df[\"Timestamp\"] = galaxy_df[\"Timestamp\"].dt.strftime(\"%Y-%m-%d %H:%M:%S\")\n",
    "\n",
    "polarh10_df[\"Data\"] = polarh10_df[\"ecg\"]\n",
    "e4_df[\"Data\"] = e4_df[\"value\"]\n",
    "galaxy_df[\"Data\"] = galaxy_df[\"ppg\"]"
   ]
  },
  {
   "cell_type": "code",
   "execution_count": 223,
   "metadata": {},
   "outputs": [],
   "source": [
    "df_list = [polarh10_df, e4_df, galaxy_df]"
   ]
  },
  {
   "cell_type": "code",
   "execution_count": 224,
   "metadata": {},
   "outputs": [
    {
     "name": "stdout",
     "output_type": "stream",
     "text": [
      "============ Polar H10 [original information] =============\n",
      "Start time: 2024-03-19 16:07:16\n",
      "End time: 2024-03-19 17:12:49\n",
      "Data Length: 513482\n",
      "Data Length (in seconds): 3949.8615384615387(s)\n",
      "Sampling Rate: 130Hz\n",
      "\n",
      "============ E4 [original information] =============\n",
      "Start time: 2024-03-19 16:09:51\n",
      "End time: 2024-03-19 17:11:52\n",
      "Data Length: 238150\n",
      "Data Length (in seconds): 3721.09375(s)\n",
      "Sampling Rate: 64Hz\n",
      "\n",
      "============ Galaxy Watch [original information] =============\n",
      "Start time: 2024-03-19 16:10:08\n",
      "End time: 2024-03-19 17:12:35\n",
      "Data Length: 93300\n",
      "Data Length (in seconds): 3732.0(s)\n",
      "Sampling Rate: 25Hz\n",
      "\n"
     ]
    }
   ],
   "source": [
    "for i in range(len(sensor_list)):\n",
    "    print(f\"============ {sensor_list[i]} [original information] =============\")\n",
    "    print(f\"Start time: {df_list[i]['Timestamp'][0]}\")\n",
    "    print(f\"End time: {df_list[i]['Timestamp'].iloc[-1]}\")\n",
    "    print(f\"Data Length: {len(df_list[i])}\")\n",
    "    print(f\"Data Length (in seconds): {len(df_list[i])/sample_rate_list[i]}(s)\")\n",
    "    print(f\"Sampling Rate: {sample_rate_list[i]}Hz\\n\")"
   ]
  },
  {
   "cell_type": "code",
   "execution_count": 225,
   "metadata": {},
   "outputs": [],
   "source": [
    "start_time_polarh10 = polarh10_df[\"Timestamp\"][0]\n",
    "start_time_e4 = e4_df[\"Timestamp\"][0]\n",
    "start_time_galaxy = galaxy_df[\"Timestamp\"][0]\n",
    "start_time = max(start_time_polarh10, start_time_e4 ,start_time_galaxy)"
   ]
  },
  {
   "cell_type": "code",
   "execution_count": 226,
   "metadata": {},
   "outputs": [],
   "source": [
    "end_time_polarh10 = polarh10_df[\"Timestamp\"].iloc[-1]\n",
    "end_time_e4 = e4_df[\"Timestamp\"].iloc[-1]\n",
    "end_time_galaxy = galaxy_df[\"Timestamp\"].iloc[-1]\n",
    "end_time = min(end_time_polarh10, end_time_e4 ,end_time_galaxy)"
   ]
  },
  {
   "cell_type": "code",
   "execution_count": 227,
   "metadata": {},
   "outputs": [
    {
     "name": "stdout",
     "output_type": "stream",
     "text": [
      "Standard Start Time:  2024-03-19 16:10:08\n"
     ]
    }
   ],
   "source": [
    "print(\"Standard Start Time: \", start_time)"
   ]
  },
  {
   "cell_type": "code",
   "execution_count": 228,
   "metadata": {},
   "outputs": [
    {
     "name": "stdout",
     "output_type": "stream",
     "text": [
      "Standard End Time:  2024-03-19 17:11:52\n"
     ]
    }
   ],
   "source": [
    "print(\"Standard End Time: \", end_time)"
   ]
  },
  {
   "cell_type": "code",
   "execution_count": 229,
   "metadata": {},
   "outputs": [],
   "source": [
    "def get_clean_df(df, start_time, end_time):\n",
    "    tmp_df = df.loc[(df['Timestamp'] >= start_time) &\n",
    "                         (df['Timestamp'] <= end_time)].reset_index(drop=True)\n",
    "\n",
    "    clean_df = pd.DataFrame({\n",
    "        'Timestamp': tmp_df['Timestamp'],\n",
    "        'Data': tmp_df['Data'],\n",
    "        'Status': 0\n",
    "    })\n",
    "\n",
    "    return clean_df"
   ]
  },
  {
   "cell_type": "code",
   "execution_count": 230,
   "metadata": {},
   "outputs": [],
   "source": [
    "polarh10_clean_df = get_clean_df(polarh10_df, start_time, end_time)\n",
    "e4_clean_df = get_clean_df(e4_df, start_time, end_time)\n",
    "galaxy_clean_df = get_clean_df(galaxy_df, start_time, end_time)"
   ]
  },
  {
   "cell_type": "code",
   "execution_count": 231,
   "metadata": {},
   "outputs": [],
   "source": [
    "clean_df_list = [polarh10_clean_df, e4_clean_df, galaxy_clean_df]"
   ]
  },
  {
   "cell_type": "code",
   "execution_count": 232,
   "metadata": {},
   "outputs": [
    {
     "name": "stdout",
     "output_type": "stream",
     "text": [
      "============ Polar H10 [clean information] =============\n",
      "Start time: 2024-03-19 16:10:08\n",
      "End time: 2024-03-19 17:11:52\n",
      "Data Length: 483653\n",
      "Data Length (in seconds): 3720.4076923076923(s)\n",
      "Sampling Rate: 130Hz\n",
      "\n",
      "============ E4 [clean information] =============\n",
      "Start time: 2024-03-19 16:10:08\n",
      "End time: 2024-03-19 17:11:52\n",
      "Data Length: 237062\n",
      "Data Length (in seconds): 3704.09375(s)\n",
      "Sampling Rate: 64Hz\n",
      "\n",
      "============ Galaxy Watch [clean information] =============\n",
      "Start time: 2024-03-19 16:10:08\n",
      "End time: 2024-03-19 17:11:52\n",
      "Data Length: 92244\n",
      "Data Length (in seconds): 3689.76(s)\n",
      "Sampling Rate: 25Hz\n",
      "\n"
     ]
    }
   ],
   "source": [
    "for i in range(len(sensor_list)):\n",
    "    print(f\"============ {sensor_list[i]} [clean information] =============\")\n",
    "    print(f\"Start time: {clean_df_list[i]['Timestamp'][0]}\")\n",
    "    print(f\"End time: {clean_df_list[i]['Timestamp'].iloc[-1]}\")\n",
    "    print(f\"Data Length: {len(clean_df_list[i])}\")\n",
    "    print(f\"Data Length (in seconds): {len(clean_df_list[i])/sample_rate_list[i]}(s)\")\n",
    "    print(f\"Sampling Rate: {sample_rate_list[i]}Hz\\n\")"
   ]
  },
  {
   "cell_type": "code",
   "execution_count": 233,
   "metadata": {},
   "outputs": [],
   "source": [
    "event_df[\"timestamp\"] = pd.to_datetime(event_df[\"timestamp\"]*1e6) + pd.Timedelta(hours=9)\n",
    "event_df[\"timestamp\"] = event_df[\"timestamp\"].dt.strftime(\"%Y-%m-%d %H:%M:%S\")"
   ]
  },
  {
   "cell_type": "code",
   "execution_count": 247,
   "metadata": {},
   "outputs": [],
   "source": [
    "event_dict = {}\n",
    "id = 0\n",
    "prev_session = \"\"\n",
    "event_dict['nothing'] = 0\n",
    "for curr_session in event_df[\"session\"]:\n",
    "    if prev_session != curr_session:\n",
    "        id += 1\n",
    "    event_dict[curr_session] = id\n",
    "    prev_session = curr_session\n"
   ]
  },
  {
   "cell_type": "code",
   "execution_count": 248,
   "metadata": {},
   "outputs": [
    {
     "data": {
      "text/plain": [
       "{'nothing': 0,\n",
       " 'adaptation': 1,\n",
       " 'baseline': 2,\n",
       " 'tsst-prep': 3,\n",
       " 'tsst-speech': 4,\n",
       " 'meditation-1': 5,\n",
       " 'screen-reading': 6,\n",
       " 'ssst-prep': 7,\n",
       " 'ssst-sing': 8,\n",
       " 'meditation-2': 9,\n",
       " 'keyboard-typing': 10,\n",
       " 'rest-1': 11,\n",
       " 'mobile-typing': 12,\n",
       " 'rest-2': 13,\n",
       " 'standing': 14,\n",
       " 'rest-3': 15,\n",
       " 'walking': 16,\n",
       " 'rest-4': 17,\n",
       " 'jogging': 18,\n",
       " 'rest-5': 19,\n",
       " 'running': 20}"
      ]
     },
     "execution_count": 248,
     "metadata": {},
     "output_type": "execute_result"
    }
   ],
   "source": [
    "event_dict"
   ]
  },
  {
   "cell_type": "code",
   "execution_count": 236,
   "metadata": {},
   "outputs": [],
   "source": [
    "for df in clean_df_list:\n",
    "    for key in event_dict.keys():\n",
    "        tmp_df = event_df[['timestamp','session']].loc[event_df[\"session\"] == key]\n",
    "        df.loc[(df[\"Timestamp\"] >= tmp_df['timestamp'].iloc[0]) &\n",
    "                                        (df[\"Timestamp\"] <= tmp_df['timestamp'].iloc[-1]), 'Status'] = event_dict[key]"
   ]
  },
  {
   "cell_type": "markdown",
   "metadata": {},
   "source": [
    "### Validation for event marker"
   ]
  },
  {
   "cell_type": "code",
   "execution_count": 237,
   "metadata": {},
   "outputs": [],
   "source": [
    "view_second = 3660"
   ]
  },
  {
   "cell_type": "code",
   "execution_count": 238,
   "metadata": {},
   "outputs": [
    {
     "name": "stdout",
     "output_type": "stream",
     "text": [
      "======== Polar H10 [status] ========\n",
      "Time: 2024-03-19 17:10:52\n",
      "Status: 20\n",
      "\n",
      "======== E4 [status] ========\n",
      "Time: 2024-03-19 17:11:08\n",
      "Status: 20\n",
      "\n",
      "======== Galaxy Watch [status] ========\n",
      "Time: 2024-03-19 17:11:23\n",
      "Status: 20\n",
      "\n"
     ]
    }
   ],
   "source": [
    "for i in range(len(sensor_list)):\n",
    "    print(f\"======== {sensor_list[i]} [status] ========\")\n",
    "    print(f\"Time: {clean_df_list[i]['Timestamp'].iloc[view_second*sample_rate_list[i]]}\")\n",
    "    print(f\"Status: {clean_df_list[i]['Status'].iloc[view_second*sample_rate_list[i]]}\\n\")"
   ]
  },
  {
   "cell_type": "code",
   "execution_count": 239,
   "metadata": {},
   "outputs": [],
   "source": [
    "# for i in range(len(sensor_list)):\n",
    "#     clean_df_list[i] = clean_df_list[i].loc[clean_df_list[i]['Status'] != 0].reset_index(drop=True)"
   ]
  },
  {
   "cell_type": "code",
   "execution_count": 240,
   "metadata": {},
   "outputs": [
    {
     "name": "stdout",
     "output_type": "stream",
     "text": [
      "============ Polar H10 [clean information] =============\n",
      "Start time: 2024-03-19 16:10:08\n",
      "End time: 2024-03-19 17:11:52\n",
      "Data Length: 483653\n",
      "Data Length (in seconds): 3720.4076923076923(s)\n",
      "Sampling Rate: 130Hz\n",
      "\n",
      "============ E4 [clean information] =============\n",
      "Start time: 2024-03-19 16:10:08\n",
      "End time: 2024-03-19 17:11:52\n",
      "Data Length: 237062\n",
      "Data Length (in seconds): 3704.09375(s)\n",
      "Sampling Rate: 64Hz\n",
      "\n",
      "============ Galaxy Watch [clean information] =============\n",
      "Start time: 2024-03-19 16:10:08\n",
      "End time: 2024-03-19 17:11:52\n",
      "Data Length: 92244\n",
      "Data Length (in seconds): 3689.76(s)\n",
      "Sampling Rate: 25Hz\n",
      "\n"
     ]
    }
   ],
   "source": [
    "for i in range(len(sensor_list)):\n",
    "    print(f\"============ {sensor_list[i]} [clean information] =============\")\n",
    "    print(f\"Start time: {clean_df_list[i]['Timestamp'][0]}\")\n",
    "    print(f\"End time: {clean_df_list[i]['Timestamp'].iloc[-1]}\")\n",
    "    print(f\"Data Length: {len(clean_df_list[i])}\")\n",
    "    print(f\"Data Length (in seconds): {len(clean_df_list[i])/sample_rate_list[i]}(s)\")\n",
    "    print(f\"Sampling Rate: {sample_rate_list[i]}Hz\\n\")"
   ]
  },
  {
   "cell_type": "code",
   "execution_count": 241,
   "metadata": {},
   "outputs": [],
   "source": [
    "for i in range(len(sensor_list)):\n",
    "    clean_df_list[i].to_csv(DATA_PATH + SUBJECT_PATH + sensor_path_list[i] + \"labeled_data.csv\")"
   ]
  },
  {
   "cell_type": "code",
   "execution_count": 250,
   "metadata": {},
   "outputs": [],
   "source": [
    "event_dict_df = pd.DataFrame(event_dict, index=[0])\n",
    "event_dict_df.to_csv(DATA_PATH + SUBJECT_PATH+ \"event_dict.csv\")"
   ]
  },
  {
   "cell_type": "code",
   "execution_count": 251,
   "metadata": {},
   "outputs": [],
   "source": [
    "import csv\n",
    "# Save dictionary to CSV file\n",
    "with open(DATA_PATH + SUBJECT_PATH+ \"event_dict.csv\", 'w', newline='') as csvfile:\n",
    "    writer = csv.DictWriter(csvfile, fieldnames=event_dict.keys())\n",
    "    writer.writeheader()\n",
    "    writer.writerow(event_dict)"
   ]
  },
  {
   "cell_type": "code",
   "execution_count": null,
   "metadata": {},
   "outputs": [],
   "source": []
  }
 ],
 "metadata": {
  "kernelspec": {
   "display_name": "Python 3",
   "language": "python",
   "name": "python3"
  },
  "language_info": {
   "codemirror_mode": {
    "name": "ipython",
    "version": 3
   },
   "file_extension": ".py",
   "mimetype": "text/x-python",
   "name": "python",
   "nbconvert_exporter": "python",
   "pygments_lexer": "ipython3",
   "version": "3.11.6"
  }
 },
 "nbformat": 4,
 "nbformat_minor": 2
}
